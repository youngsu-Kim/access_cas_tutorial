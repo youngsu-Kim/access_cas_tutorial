{
 "cells": [
  {
   "cell_type": "code",
   "execution_count": 1,
   "id": "012c5d08-92cd-4e54-810a-d6578019612e",
   "metadata": {},
   "outputs": [],
   "source": [
    "import psutil"
   ]
  },
  {
   "cell_type": "code",
   "execution_count": 8,
   "id": "c821a3c3-6903-4b19-81e9-8ef386527fea",
   "metadata": {},
   "outputs": [
    {
     "name": "stdout",
     "output_type": "stream",
     "text": [
      "PID: 936, Name: misagent\n",
      "PID: 53994, Name: iconservicesagent\n",
      "PID: 54761, Name: UsageTrackingAgent\n",
      "PID: 57827, Name: python3.10\n",
      "PID: 57888, Name: python3.10\n",
      "PID: 59874, Name: python3.10\n",
      "PID: 60544, Name: python3.10\n",
      "PID: 61056, Name: python3.10\n"
     ]
    }
   ],
   "source": [
    "def list_all_processes():\n",
    "    # Iterate over all processes\n",
    "    for process in psutil.process_iter(['pid', 'name']):\n",
    "        try:\n",
    "            # Access process information using attributes like pid and name\n",
    "            process_info = process.info\n",
    "            if \"sage\" in process_info['name'] or \"python\" in process_info['name']:\n",
    "                print(f\"PID: {process_info['pid']}, Name: {process_info['name']}\")\n",
    "        except (psutil.NoSuchProcess, psutil.AccessDenied, psutil.ZombieProcess):\n",
    "            # Handle exceptions that might occur while accessing process information\n",
    "            pass\n",
    "\n",
    "# Call the function to list all processes\n",
    "process_info = None\n",
    "list_all_processes()\n"
   ]
  },
  {
   "cell_type": "code",
   "execution_count": 11,
   "id": "1df75833-8fb4-404e-8a42-82d6fc595fe0",
   "metadata": {},
   "outputs": [
    {
     "name": "stdout",
     "output_type": "stream",
     "text": [
      "Memory Usage for PID 61056:\n",
      " - RSS (Resident Set Size): 56.66 MB\n",
      " - VMS (Virtual Memory Size): 400143.11 MB\n",
      "Memory Usage for PID 60544:\n",
      " - RSS (Resident Set Size): 372.05 MB\n",
      " - VMS (Virtual Memory Size): 401759.19 MB\n"
     ]
    }
   ],
   "source": [
    "import psutil\n",
    "import os\n",
    "\n",
    "def get_memory_usage(pid):\n",
    "    try:\n",
    "        # Create a Process object for the specified process ID\n",
    "        process = psutil.Process(pid)\n",
    "        \n",
    "        # Get memory information\n",
    "        memory_info = process.memory_info()\n",
    "\n",
    "        # Print the memory usage\n",
    "        print(f\"Memory Usage for PID {pid}:\")\n",
    "        print(f\" - RSS (Resident Set Size): {memory_info.rss / (1024 * 1024):.2f} MB\")\n",
    "        print(f\" - VMS (Virtual Memory Size): {memory_info.vms / (1024 * 1024):.2f} MB\")\n",
    "        # print(f\" - Shared Memory: {memory_info.shared / (1024 * 1024):.2f} MB\")\n",
    "    except psutil.NoSuchProcess:\n",
    "        print(f\"Process with PID {pid} not found.\")\n",
    "    except psutil.AccessDenied:\n",
    "        print(f\"Access to process with PID {pid} denied.\")\n",
    "\n",
    "# Get the current process ID\n",
    "current_pid = os.getpid()\n",
    "\n",
    "# Get and print memory usage for the current process\n",
    "get_memory_usage(current_pid)\n",
    "get_memory_usage(60544)\n"
   ]
  },
  {
   "cell_type": "code",
   "execution_count": null,
   "id": "7853ad19-dc50-43b6-87d3-06e31766dfe2",
   "metadata": {},
   "outputs": [],
   "source": []
  }
 ],
 "metadata": {
  "kernelspec": {
   "display_name": "Python 3 (ipykernel)",
   "language": "python",
   "name": "python3"
  },
  "language_info": {
   "codemirror_mode": {
    "name": "ipython",
    "version": 3
   },
   "file_extension": ".py",
   "mimetype": "text/x-python",
   "name": "python",
   "nbconvert_exporter": "python",
   "pygments_lexer": "ipython3",
   "version": "3.10.9"
  }
 },
 "nbformat": 4,
 "nbformat_minor": 5
}
